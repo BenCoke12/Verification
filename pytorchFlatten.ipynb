{
 "cells": [
  {
   "cell_type": "code",
   "execution_count": 1,
   "id": "338d5c17",
   "metadata": {},
   "outputs": [],
   "source": [
    "import torch\n",
    "import torchvision\n",
    "from torchvision import transforms, datasets\n",
    "import torch.nn as nn\n",
    "import torch.nn.functional as F\n",
    "import torch.optim as optim"
   ]
  },
  {
   "cell_type": "code",
   "execution_count": 2,
   "id": "80d96298",
   "metadata": {},
   "outputs": [],
   "source": [
    "transform = transforms.Compose([transforms.ToTensor(), \n",
    "                                transforms.Normalize((0.5,),(0.5,),)])\n",
    "\n",
    "trainset = datasets.FashionMNIST(\"\", download=True, train=True, transform=transform)\n",
    "testset = datasets.FashionMNIST(\"\", download=True, train=False, transform=transform)\n",
    "\n",
    "trainLoader = torch.utils.data.DataLoader(trainset, batch_size=10, shuffle=True)\n",
    "testLoader = torch.utils.data.DataLoader(testset, batch_size=10, shuffle=True)\n",
    "\n",
    "class_labels = ['T-shirt/top', 'Trouser', 'Pullover', 'Dress', 'Coat', 'Sandal', 'Shirt', 'Sneaker', 'Bag', 'Ankle boot']"
   ]
  },
  {
   "cell_type": "code",
   "execution_count": 3,
   "id": "a335b2ab",
   "metadata": {},
   "outputs": [
    {
     "name": "stdout",
     "output_type": "stream",
     "text": [
      "Net(\n",
      "  (flatten): Flatten(start_dim=1, end_dim=-1)\n",
      "  (fc1): Linear(in_features=784, out_features=128, bias=True)\n",
      "  (fc2): Linear(in_features=128, out_features=10, bias=True)\n",
      ")\n"
     ]
    }
   ],
   "source": [
    "class Net(nn.Module):\n",
    "    \n",
    "    def __init__(self):\n",
    "        super().__init__()\n",
    "        self.flatten = nn.Flatten()\n",
    "        self.fc1 = nn.Linear(28*28, 128)\n",
    "        self.fc2 = nn.Linear(128, 10)\n",
    "        \n",
    "    def forward(self, x):\n",
    "        x = self.flatten(x)\n",
    "        x = F.relu(self.fc1(x))\n",
    "        x = self.fc2(x)\n",
    "        \n",
    "        return F.log_softmax(x, dim=1)\n",
    "    \n",
    "net = Net()\n",
    "print(net)"
   ]
  },
  {
   "cell_type": "code",
   "execution_count": 4,
   "id": "a683a265",
   "metadata": {},
   "outputs": [
    {
     "name": "stdout",
     "output_type": "stream",
     "text": [
      "tensor(0.1637, grad_fn=<NllLossBackward0>)\n",
      "tensor(0.2347, grad_fn=<NllLossBackward0>)\n",
      "tensor(0.0406, grad_fn=<NllLossBackward0>)\n",
      "tensor(0.1881, grad_fn=<NllLossBackward0>)\n",
      "tensor(1.0659, grad_fn=<NllLossBackward0>)\n"
     ]
    }
   ],
   "source": [
    "optimiser = optim.Adam(net.parameters(), lr=0.0001)\n",
    "\n",
    "EPOCHS = 5\n",
    "\n",
    "for epoch in range(EPOCHS):\n",
    "    for data in trainLoader:\n",
    "        X, y = data\n",
    "        net.zero_grad()\n",
    "        output = net(X)\n",
    "        loss = F.nll_loss(output, y)\n",
    "        loss.backward()\n",
    "        optimiser.step()\n",
    "    print(loss)"
   ]
  },
  {
   "cell_type": "code",
   "execution_count": 5,
   "id": "1697ff7f",
   "metadata": {},
   "outputs": [
    {
     "name": "stdout",
     "output_type": "stream",
     "text": [
      "Accuracy:  0.864\n",
      "8642\n",
      "10000\n"
     ]
    }
   ],
   "source": [
    "correct = 0\n",
    "total = 0\n",
    "\n",
    "with torch.no_grad():\n",
    "    for data in testLoader:\n",
    "        X, y = data\n",
    "        output = net(X)\n",
    "        for idx, i in enumerate(output):\n",
    "            if torch.argmax(i) == y[idx]:\n",
    "                correct += 1\n",
    "            total += 1\n",
    "\n",
    "print(\"Accuracy: \", round(correct/total, 3))\n",
    "print(correct)\n",
    "print(total)"
   ]
  },
  {
   "cell_type": "code",
   "execution_count": 6,
   "id": "93f3a7e6",
   "metadata": {},
   "outputs": [
    {
     "data": {
      "image/png": "[encoded data removed]",
      "text/plain": [
       "<Figure size 640x480 with 1 Axes>"
      ]
     },
     "metadata": {},
     "output_type": "display_data"
    }
   ],
   "source": [
    "import matplotlib.pyplot as plt\n",
    "plt.imshow(X[4].view(28,28))\n",
    "plt.show()"
   ]
  },
  {
   "cell_type": "code",
   "execution_count": 7,
   "id": "98c21184",
   "metadata": {},
   "outputs": [
    {
     "name": "stdout",
     "output_type": "stream",
     "text": [
      "Trouser\n",
      "Trouser\n"
     ]
    }
   ],
   "source": [
    "labelIndex = 4\n",
    "print(class_labels[torch.argmax(net(X[labelIndex])[0])])\n",
    "print(class_labels[y[labelIndex]])"
   ]
  },
  {
   "cell_type": "code",
   "execution_count": 8,
   "id": "37426d8a",
   "metadata": {},
   "outputs": [
    {
     "data": {
      "text/plain": [
       "Net(\n",
       "  (flatten): Flatten(start_dim=1, end_dim=-1)\n",
       "  (fc1): Linear(in_features=784, out_features=128, bias=True)\n",
       "  (fc2): Linear(in_features=128, out_features=10, bias=True)\n",
       ")"
      ]
     },
     "execution_count": 8,
     "metadata": {},
     "output_type": "execute_result"
    }
   ],
   "source": [
    "net.eval()"
   ]
  },
  {
   "cell_type": "code",
   "execution_count": 9,
   "id": "849d2b7b",
   "metadata": {},
   "outputs": [
    {
     "name": "stdout",
     "output_type": "stream",
     "text": [
      "================ Diagnostic Run torch.onnx.export version 2.0.1 ================\n",
      "verbose: False, log level: Level.ERROR\n",
      "======================= 0 NONE 0 NOTE 0 WARNING 0 ERROR ========================\n",
      "\n"
     ]
    }
   ],
   "source": [
    "batch_size = 1\n",
    "x = torch.randn(batch_size, 1, 28, 28, requires_grad=True)\n",
    "#x = torch.Tensor(X)\n",
    "netOut = net(x)\n",
    "\n",
    "torch.onnx.export(net,\n",
    "                  x,\n",
    "                  \"fashionFlatten1.onnx\",\n",
    "                  export_params=True,\n",
    "                  input_names=['input'],\n",
    "                  do_constant_folding=True,\n",
    "                  output_names=['output'],\n",
    "                  dynamic_axes={'input' : {0 : 'batch_size'},\n",
    "                                'output' : {0 : 'batch_size'}})"
   ]
  },
  {
   "cell_type": "code",
   "execution_count": 10,
   "id": "6f3dc96d",
   "metadata": {},
   "outputs": [
    {
     "name": "stdout",
     "output_type": "stream",
     "text": [
      "graph torch_jit (\n",
      "  %input[FLOAT, batch_sizex1x28x28]\n",
      ") initializers (\n",
      "  %fc1.weight[FLOAT, 128x784]\n",
      "  %fc1.bias[FLOAT, 128]\n",
      "  %fc2.weight[FLOAT, 10x128]\n",
      "  %fc2.bias[FLOAT, 10]\n",
      ") {\n",
      "  %/flatten/Flatten_output_0 = Flatten[axis = 1](%input)\n",
      "  %/fc1/Gemm_output_0 = Gemm[alpha = 1, beta = 1, transB = 1](%/flatten/Flatten_output_0, %fc1.weight, %fc1.bias)\n",
      "  %/Relu_output_0 = Relu(%/fc1/Gemm_output_0)\n",
      "  %/fc2/Gemm_output_0 = Gemm[alpha = 1, beta = 1, transB = 1](%/Relu_output_0, %fc2.weight, %fc2.bias)\n",
      "  %output = LogSoftmax[axis = 1](%/fc2/Gemm_output_0)\n",
      "  return %output\n",
      "}\n"
     ]
    }
   ],
   "source": [
    "import onnx\n",
    "\n",
    "onnx_model = onnx.load(\"fashionFlatten1.onnx\")\n",
    "onnx.checker.check_model(onnx_model)\n",
    "print(onnx.helper.printable_graph(onnx_model.graph))"
   ]
  },
  {
   "cell_type": "code",
   "execution_count": 11,
   "id": "8c663f6d",
   "metadata": {},
   "outputs": [
    {
     "name": "stdout",
     "output_type": "stream",
     "text": [
      "Success\n",
      "<onnxruntime.capi.onnxruntime_inference_collection.InferenceSession object at 0x00000252104AE070>\n"
     ]
    }
   ],
   "source": [
    "import onnxruntime\n",
    "\n",
    "ort_session = onnxruntime.InferenceSession(\"fashionFlatten1.onnx\")\n",
    "\n",
    "def to_numpy(tensor):\n",
    "    return tensor.detach().cpu().numpy() if tensor.requires_grad else tensor.cpu().numpy()\n",
    "\n",
    "ort_inputs = {ort_session.get_inputs()[0].name: to_numpy(x)}\n",
    "#ort_outputs = ort_session.get_outputs()[0].name\n",
    "ort_outs = ort_session.run(None, ort_inputs)\n",
    "\n",
    "import numpy as np\n",
    "\n",
    "np.testing.assert_allclose(to_numpy(netOut), ort_outs[0], rtol=1e-03, atol=1e-05)\n",
    "\n",
    "print(\"Success\")\n",
    "print(ort_session)"
   ]
  },
  {
   "cell_type": "code",
   "execution_count": 12,
   "id": "849a78a4",
   "metadata": {},
   "outputs": [
    {
     "data": {
      "text/plain": [
       "array([[-2.3133373, -2.9493208, -3.1774812, -4.840892 , -2.0173652,\n",
       "        -1.3745353, -1.7997645, -3.0083365, -3.0071058, -1.9038426]],\n",
       "      dtype=float32)"
      ]
     },
     "execution_count": 12,
     "metadata": {},
     "output_type": "execute_result"
    }
   ],
   "source": [
    "ort_outs[0]"
   ]
  },
  {
   "cell_type": "code",
   "execution_count": 13,
   "id": "2b4059de",
   "metadata": {},
   "outputs": [
    {
     "data": {
      "text/plain": [
       "tensor([[-2.3133, -2.9493, -3.1775, -4.8409, -2.0174, -1.3745, -1.7998, -3.0083,\n",
       "         -3.0071, -1.9038]], grad_fn=<LogSoftmaxBackward0>)"
      ]
     },
     "execution_count": 13,
     "metadata": {},
     "output_type": "execute_result"
    }
   ],
   "source": [
    "netOut"
   ]
  },
  {
   "cell_type": "code",
   "execution_count": 14,
   "id": "e5f9dbe4",
   "metadata": {},
   "outputs": [
    {
     "data": {
      "image/png": "[encoded data removed]",
      "text/plain": [
       "<Figure size 640x480 with 1 Axes>"
      ]
     },
     "metadata": {},
     "output_type": "display_data"
    },
    {
     "name": "stdout",
     "output_type": "stream",
     "text": [
      "Ankle boot\n"
     ]
    }
   ],
   "source": [
    "X, y = testset[0]\n",
    "plt.imshow(X.view(28,28))\n",
    "plt.show()\n",
    "print(class_labels[y])"
   ]
  },
  {
   "cell_type": "code",
   "execution_count": 15,
   "id": "ba14abc8",
   "metadata": {},
   "outputs": [
    {
     "name": "stdout",
     "output_type": "stream",
     "text": [
      "Ankle boot\n"
     ]
    }
   ],
   "source": [
    "print(class_labels[torch.argmax(net(X))])"
   ]
  },
  {
   "cell_type": "code",
   "execution_count": 16,
   "id": "d5487e5a",
   "metadata": {},
   "outputs": [
    {
     "data": {
      "text/plain": [
       "array([[-12.572902  , -14.273725  , -11.802283  , -11.380926  ,\n",
       "         -9.771669  ,  -2.2001493 , -11.364032  ,  -1.7038848 ,\n",
       "         -5.203463  ,  -0.35432202]], dtype=float32)"
      ]
     },
     "execution_count": 16,
     "metadata": {},
     "output_type": "execute_result"
    }
   ],
   "source": [
    "to_numpy(net(X))"
   ]
  },
  {
   "cell_type": "code",
   "execution_count": 17,
   "id": "25d38700",
   "metadata": {},
   "outputs": [
    {
     "data": {
      "text/plain": [
       "tensor(9)"
      ]
     },
     "execution_count": 17,
     "metadata": {},
     "output_type": "execute_result"
    }
   ],
   "source": [
    "torch.argmax(torch.from_numpy(to_numpy(net(X))))"
   ]
  },
  {
   "cell_type": "code",
   "execution_count": 18,
   "id": "eb719da1",
   "metadata": {},
   "outputs": [
    {
     "name": "stdout",
     "output_type": "stream",
     "text": [
      "{'input': array([[[[-1.        , -1.        , -1.        , -1.        ,\n",
      "          -1.        , -1.        , -1.        , -1.        ,\n",
      "          -1.        , -1.        , -1.        , -1.        ,\n",
      "          -1.        , -1.        , -1.        , -1.        ,\n",
      "          -1.        , -1.        , -1.        , -1.        ,\n",
      "          -1.        , -1.        , -1.        , -1.        ,\n",
      "          -1.        , -1.        , -1.        , -1.        ],\n",
      "         [-1.        , -1.        , -1.        , -1.        ,\n",
      "          -1.        , -1.        , -1.        , -1.        ,\n",
      "          -1.        , -1.        , -1.        , -1.        ,\n",
      "          -1.        , -1.        , -1.        , -1.        ,\n",
      "          -1.        , -1.        , -1.        , -1.        ,\n",
      "          -1.        , -1.        , -1.        , -1.        ,\n",
      "          -1.        , -1.        , -1.        , -1.        ],\n",
      "         [-1.        , -1.        , -1.        , -1.        ,\n",
      "          -1.        , -1.        , -1.        , -1.        ,\n",
      "          -1.        , -1.        , -1.        , -1.        ,\n",
      "          -1.        , -1.        , -1.        , -1.        ,\n",
      "          -1.        , -1.        , -1.        , -1.        ,\n",
      "          -1.        , -1.        , -1.        , -1.        ,\n",
      "          -1.        , -1.        , -1.        , -1.        ],\n",
      "         [-1.        , -1.        , -1.        , -1.        ,\n",
      "          -1.        , -1.        , -1.        , -1.        ,\n",
      "          -1.        , -1.        , -1.        , -1.        ,\n",
      "          -1.        , -1.        , -1.        , -1.        ,\n",
      "          -1.        , -1.        , -1.        , -1.        ,\n",
      "          -1.        , -1.        , -1.        , -1.        ,\n",
      "          -1.        , -1.        , -1.        , -1.        ],\n",
      "         [-1.        , -1.        , -1.        , -1.        ,\n",
      "          -1.        , -1.        , -1.        , -1.        ,\n",
      "          -1.        , -1.        , -1.        , -1.        ,\n",
      "          -1.        , -1.        , -1.        , -1.        ,\n",
      "          -1.        , -1.        , -1.        , -1.        ,\n",
      "          -1.        , -1.        , -1.        , -1.        ,\n",
      "          -1.        , -1.        , -1.        , -1.        ],\n",
      "         [-1.        , -1.        , -1.        , -1.        ,\n",
      "          -1.        , -1.        , -1.        , -1.        ,\n",
      "          -1.        , -1.        , -1.        , -1.        ,\n",
      "          -1.        , -1.        , -1.        , -1.        ,\n",
      "          -1.        , -1.        , -1.        , -1.        ,\n",
      "          -1.        , -1.        , -1.        , -1.        ,\n",
      "          -1.        , -1.        , -1.        , -1.        ],\n",
      "         [-1.        , -1.        , -1.        , -1.        ,\n",
      "          -1.        , -1.        , -1.        , -1.        ,\n",
      "          -1.        , -1.        , -1.        , -1.        ,\n",
      "          -1.        , -1.        , -1.        , -1.        ,\n",
      "          -1.        , -1.        , -1.        , -1.        ,\n",
      "          -1.        , -1.        , -1.        , -1.        ,\n",
      "          -1.        , -1.        , -1.        , -1.        ],\n",
      "         [-1.        , -1.        , -1.        , -1.        ,\n",
      "          -1.        , -1.        , -1.        , -1.        ,\n",
      "          -1.        , -1.        , -1.        , -1.        ,\n",
      "          -1.        , -1.        , -1.        , -1.        ,\n",
      "          -1.        , -1.        , -1.        , -0.9764706 ,\n",
      "          -0.99215686, -1.        , -1.        , -0.94509804,\n",
      "          -1.        , -0.70980394, -1.        , -1.        ],\n",
      "         [-1.        , -1.        , -1.        , -1.        ,\n",
      "          -1.        , -1.        , -1.        , -1.        ,\n",
      "          -1.        , -1.        , -1.        , -1.        ,\n",
      "          -1.        , -0.99215686, -0.9843137 , -1.        ,\n",
      "          -0.7882353 , -0.34117645, -0.9137255 , -1.        ,\n",
      "          -1.        , -1.        , -1.        , -1.        ,\n",
      "          -1.        , -0.06666666, -1.        , -1.        ],\n",
      "         [-1.        , -1.        , -1.        , -1.        ,\n",
      "          -1.        , -1.        , -1.        , -1.        ,\n",
      "          -1.        , -1.        , -1.        , -1.        ,\n",
      "          -1.        , -0.99215686, -1.        , -1.        ,\n",
      "          -0.3098039 ,  0.12156868, -0.1372549 , -1.        ,\n",
      "          -1.        , -1.        , -1.        , -0.827451  ,\n",
      "          -0.27058822, -0.16862744, -1.        , -1.        ],\n",
      "         [-1.        , -1.        , -1.        , -1.        ,\n",
      "          -1.        , -1.        , -1.        , -1.        ,\n",
      "          -1.        , -1.        , -1.        , -1.        ,\n",
      "          -1.        , -0.96862745, -1.        , -0.58431375,\n",
      "           0.01176476, -0.05882353,  0.15294123,  0.37254906,\n",
      "           0.2313726 ,  0.30196083,  0.05882359,  0.20784318,\n",
      "           0.3176471 ,  0.09803927, -1.        , -1.        ],\n",
      "         [-1.        , -1.        , -1.        , -1.        ,\n",
      "          -1.        , -1.        , -1.        , -1.        ,\n",
      "          -1.        , -1.        , -1.        , -1.        ,\n",
      "          -0.9843137 , -1.        , -0.9137255 ,  0.07450986,\n",
      "           0.0196079 ,  0.00392163,  0.254902  ,  0.3803922 ,\n",
      "           0.24705887,  0.30980396,  0.39607847,  0.1686275 ,\n",
      "           0.18431377,  0.12941182, -1.        , -1.        ],\n",
      "         [-1.        , -1.        , -1.        , -1.        ,\n",
      "          -1.        , -1.        , -0.99215686, -1.        ,\n",
      "          -0.9843137 , -0.99215686, -1.        , -0.9764706 ,\n",
      "          -1.        , -1.        , -0.09803921, -0.10588235,\n",
      "          -0.16862744,  0.07450986,  0.3176471 ,  0.20000005,\n",
      "           0.22352946,  0.2941177 ,  0.30980396,  0.12156868,\n",
      "           0.2313726 ,  0.23921573, -0.9137255 , -1.        ],\n",
      "         [-1.        , -1.        , -1.        , -1.        ,\n",
      "          -0.99215686, -1.        , -1.        , -1.        ,\n",
      "          -1.        , -1.        , -0.9764706 , -1.        ,\n",
      "          -1.        , -0.30196077,  0.09019613, -0.29411763,\n",
      "          -0.26274508,  0.20000005,  0.1686275 ,  0.02745104,\n",
      "           0.18431377,  0.32549024,  0.34901965,  0.12156868,\n",
      "           0.24705887,  0.32549024, -0.62352943, -1.        ],\n",
      "         [-1.        , -1.        , -1.        , -1.        ,\n",
      "          -1.        , -1.        , -0.9843137 , -0.96862745,\n",
      "          -0.99215686, -1.        , -1.        , -1.        ,\n",
      "          -0.23137254,  0.06666672, -0.1372549 , -0.14509803,\n",
      "          -0.1372549 ,  0.27058828,  0.05882359,  0.12941182,\n",
      "           0.1686275 ,  0.24705887,  0.30980396,  0.12941182,\n",
      "           0.23921573,  0.32549024, -0.06666666, -1.        ],\n",
      "         [-1.        , -1.        , -0.9843137 , -0.9843137 ,\n",
      "          -0.99215686, -0.9843137 , -1.        , -1.        ,\n",
      "          -1.        , -1.        , -0.79607844, -0.15294117,\n",
      "          -0.08235294, -0.2235294 , -0.12941176, -0.08235294,\n",
      "           0.06666672,  0.22352946,  0.05098045,  0.20784318,\n",
      "           0.20784318,  0.22352946,  0.254902  ,  0.10588241,\n",
      "           0.15294123,  0.22352946,  0.39607847, -1.        ],\n",
      "         [-0.9764706 , -1.        , -1.        , -1.        ,\n",
      "          -1.        , -1.        , -1.        , -0.8352941 ,\n",
      "          -0.58431375, -0.27843136, -0.08235294, -0.12941176,\n",
      "          -0.19215685, -0.09803921,  0.01176476,  0.05098045,\n",
      "           0.12156868,  0.20784318,  0.2941177 ,  0.33333337,\n",
      "           0.20784318,  0.18431377,  0.20784318,  0.12156868,\n",
      "           0.082353  ,  0.17647064,  0.2941177 , -0.6627451 ],\n",
      "         [-1.        , -1.        , -0.81960785, -0.5764706 ,\n",
      "          -0.49019605, -0.40392154, -0.3333333 , -0.0745098 ,\n",
      "           0.00392163, -0.03529412, -0.12941176, -0.11372548,\n",
      "          -0.0745098 , -0.00392157, -0.01960784,  0.09019613,\n",
      "           0.04313731,  0.06666672,  0.254902  ,  0.09803927,\n",
      "           0.21568632,  0.26274514,  0.12941182,  0.21568632,\n",
      "           0.34901965,  0.26274514,  0.48235297, -0.5137255 ],\n",
      "         [-1.        , -0.46666664, -0.26274508, -0.29411763,\n",
      "          -0.12941176, -0.10588235, -0.12941176, -0.10588235,\n",
      "          -0.09803921, -0.00392157,  0.05882359,  0.06666672,\n",
      "           0.12156868, -0.01176471, -0.00392157,  0.18431377,\n",
      "           0.20784318,  0.12156868,  0.16078436, -0.01960784,\n",
      "           0.27058828,  0.27058828,  0.12941182,  0.082353  ,\n",
      "           0.20000005,  0.27058828,  0.5372549 , -0.54509807],\n",
      "         [-0.45098037,  0.32549024,  0.01176476, -0.18431371,\n",
      "          -0.23137254, -0.21568626, -0.26274508, -0.23921567,\n",
      "          -0.23137254, -0.19999999, -0.15294117, -0.16862744,\n",
      "          -0.06666666, -0.05882353,  0.01176476,  0.1686275 ,\n",
      "           0.22352946,  0.30980396,  0.4901961 ,  0.4901961 ,\n",
      "           0.5372549 ,  0.5529412 ,  0.5529412 ,  0.4666667 ,\n",
      "           0.54509807,  0.48235297,  0.4431373 , -0.7176471 ],\n",
      "         [-0.8745098 , -0.01176471,  0.3411765 ,  0.47450984,\n",
      "           0.47450984,  0.4431373 ,  0.3411765 ,  0.20000005,\n",
      "           0.05882359, -0.05882353, -0.01176471, -0.00392157,\n",
      "           0.14509809,  0.45098042,  0.5294118 ,  0.6392157 ,\n",
      "           0.6313726 ,  1.        ,  0.6392157 ,  0.38823533,\n",
      "           0.92156863,  0.9764706 ,  0.96862745,  0.96862745,\n",
      "           0.9372549 ,  0.7254902 ,  0.6156863 , -0.6156863 ],\n",
      "         [-1.        , -1.        , -1.        , -0.90588236,\n",
      "          -0.47450978, -0.16862744,  0.28627455,  0.45098042,\n",
      "           0.56078434,  0.64705884,  0.654902  ,  0.64705884,\n",
      "           0.6313726 ,  0.4901961 ,  0.17647064, -0.35686272,\n",
      "          -0.9372549 , -1.        , -1.        , -1.        ,\n",
      "           0.39607847,  0.6313726 ,  0.47450984,  0.37254906,\n",
      "           0.27058828,  0.23921573,  0.18431377, -0.9137255 ],\n",
      "         [-1.        , -1.        , -1.        , -1.        ,\n",
      "          -1.        , -1.        , -1.        , -1.        ,\n",
      "          -1.        , -1.        , -1.        , -1.        ,\n",
      "          -1.        , -1.        , -1.        , -1.        ,\n",
      "          -1.        , -1.        , -1.        , -1.        ,\n",
      "          -1.        , -1.        , -1.        , -1.        ,\n",
      "          -1.        , -1.        , -1.        , -1.        ],\n",
      "         [-1.        , -1.        , -1.        , -1.        ,\n",
      "          -1.        , -1.        , -1.        , -1.        ,\n",
      "          -1.        , -1.        , -1.        , -1.        ,\n",
      "          -1.        , -1.        , -1.        , -1.        ,\n",
      "          -1.        , -1.        , -1.        , -1.        ,\n",
      "          -1.        , -1.        , -1.        , -1.        ,\n",
      "          -1.        , -1.        , -1.        , -1.        ],\n",
      "         [-1.        , -1.        , -1.        , -1.        ,\n",
      "          -1.        , -1.        , -1.        , -1.        ,\n",
      "          -1.        , -1.        , -1.        , -1.        ,\n",
      "          -1.        , -1.        , -1.        , -1.        ,\n",
      "          -1.        , -1.        , -1.        , -1.        ,\n",
      "          -1.        , -1.        , -1.        , -1.        ,\n",
      "          -1.        , -1.        , -1.        , -1.        ],\n",
      "         [-1.        , -1.        , -1.        , -1.        ,\n",
      "          -1.        , -1.        , -1.        , -1.        ,\n",
      "          -1.        , -1.        , -1.        , -1.        ,\n",
      "          -1.        , -1.        , -1.        , -1.        ,\n",
      "          -1.        , -1.        , -1.        , -1.        ,\n",
      "          -1.        , -1.        , -1.        , -1.        ,\n",
      "          -1.        , -1.        , -1.        , -1.        ],\n",
      "         [-1.        , -1.        , -1.        , -1.        ,\n",
      "          -1.        , -1.        , -1.        , -1.        ,\n",
      "          -1.        , -1.        , -1.        , -1.        ,\n",
      "          -1.        , -1.        , -1.        , -1.        ,\n",
      "          -1.        , -1.        , -1.        , -1.        ,\n",
      "          -1.        , -1.        , -1.        , -1.        ,\n",
      "          -1.        , -1.        , -1.        , -1.        ],\n",
      "         [-1.        , -1.        , -1.        , -1.        ,\n",
      "          -1.        , -1.        , -1.        , -1.        ,\n",
      "          -1.        , -1.        , -1.        , -1.        ,\n",
      "          -1.        , -1.        , -1.        , -1.        ,\n",
      "          -1.        , -1.        , -1.        , -1.        ,\n",
      "          -1.        , -1.        , -1.        , -1.        ,\n",
      "          -1.        , -1.        , -1.        , -1.        ]]]],\n",
      "      dtype=float32)}\n"
     ]
    }
   ],
   "source": [
    "inX = X.unsqueeze(0) #X.view(-1,784)\n",
    "print({ort_session.get_inputs()[0].name: to_numpy(inX)})"
   ]
  },
  {
   "cell_type": "code",
   "execution_count": 19,
   "id": "c3024d6f",
   "metadata": {},
   "outputs": [],
   "source": [
    "ort_inputs = {ort_session.get_inputs()[0].name: to_numpy(inX)}\n",
    "#ort_outputs = ort_session.get_outputs()[0].name\n",
    "out0 = ort_session.run(None, ort_inputs)"
   ]
  },
  {
   "cell_type": "code",
   "execution_count": 20,
   "id": "34171c37",
   "metadata": {},
   "outputs": [
    {
     "name": "stdout",
     "output_type": "stream",
     "text": [
      "[[-12.572901   -14.273723   -11.802281   -11.380927    -9.7716675\n",
      "   -2.2001488  -11.364031    -1.7038838   -5.2034616   -0.35432234]]\n",
      "<onnxruntime.capi.onnxruntime_inference_collection.InferenceSession object at 0x00000252104AE070>\n"
     ]
    }
   ],
   "source": [
    "print(out0[0])\n",
    "print(ort_session)"
   ]
  },
  {
   "cell_type": "code",
   "execution_count": 21,
   "id": "4e2f55e3",
   "metadata": {},
   "outputs": [
    {
     "data": {
      "text/plain": [
       "'Ankle boot'"
      ]
     },
     "execution_count": 21,
     "metadata": {},
     "output_type": "execute_result"
    }
   ],
   "source": [
    "class_labels[torch.argmax(torch.from_numpy(out0[0]))]"
   ]
  }
 ],
 "metadata": {
  "kernelspec": {
   "display_name": "Python 3 (ipykernel)",
   "language": "python",
   "name": "python3"
  },
  "language_info": {
   "codemirror_mode": {
    "name": "ipython",
    "version": 3
   },
   "file_extension": ".py",
   "mimetype": "text/x-python",
   "name": "python",
   "nbconvert_exporter": "python",
   "pygments_lexer": "ipython3",
   "version": "3.9.16"
  }
 },
 "nbformat": 4,
 "nbformat_minor": 5
}
